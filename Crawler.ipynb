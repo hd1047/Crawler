{
 "cells": [
  {
   "cell_type": "code",
   "execution_count": 1,
   "metadata": {},
   "outputs": [],
   "source": [
    "#coding=utf-8\n",
    "import requests\n",
    "import xlwt\n",
    "import xlrd\n",
    "import traceback\n",
    "import xlsxwriter\n",
    "import sys"
   ]
  },
  {
   "cell_type": "code",
   "execution_count": 16,
   "metadata": {},
   "outputs": [],
   "source": [
    "# 地铁站\n",
    "from subway import func_subway\n",
    "# 公交车站\n",
    "from bus import func_bus\n",
    "# 住宅区\n",
    "from house import func_house \n",
    "# 商场\n",
    "from mall import func_mall \n",
    "# 写字楼\n",
    "from office import func_office\n",
    "# 医院\n",
    "from hospital import func_hospital\n",
    "# 餐馆\n",
    "from restaurant import func_restaurant\n",
    "# 学校\n",
    "from school import func_school\n",
    "# 超市\n",
    "from market import func_market\n",
    "# 酒店\n",
    "from hotel import func_hotel\n",
    "# 景点\n",
    "from spot import func_spot\n",
    "# 企业\n",
    "from company import func_company"
   ]
  },
  {
   "cell_type": "code",
   "execution_count": 18,
   "metadata": {},
   "outputs": [],
   "source": [
    "def get_info(city, branch_no, keyword, radius, baidu_ak):\n",
    "    \n",
    "    workbook = xlrd.open_workbook(r'C:\\Users\\JingWenChen\\Desktop\\branch_from_web.xlsx')\n",
    "    \n",
    "    if keyword == '地铁站':\n",
    "        num = func_subway(city, branch_no, baidu_ak, radius, workbook)\n",
    "    \n",
    "    elif keyword == '公交车站':\n",
    "        num = func_bus(city, branch_no, baidu_ak, radius, workbook)\n",
    "    \n",
    "    elif keyword == '住宅区': \n",
    "        num = func_house(city, branch_no, baidu_ak, radius, workbook)\n",
    "        \n",
    "    elif keyword == '商场': \n",
    "        num = func_mall(city, branch_no, baidu_ak, radius, workbook)\n",
    "        \n",
    "    elif keyword == '写字楼': \n",
    "        num = func_office(city, branch_no, baidu_ak, radius, workbook)\n",
    "    \n",
    "    elif keyword == '医院': \n",
    "        num = func_hospital(city, branch_no, baidu_ak, radius, workbook)\n",
    "        \n",
    "    elif keyword == '餐馆': \n",
    "        num = func_restaurant(city, branch_no, baidu_ak, radius, workbook)\n",
    "    \n",
    "    elif keyword == '学校': \n",
    "        num = func_school(city, branch_no, baidu_ak, radius, workbook)\n",
    "    \n",
    "    elif keyword == '超市': \n",
    "        num = func_market(city, branch_no, baidu_ak, radius, workbook)\n",
    "    \n",
    "    elif keyword == '酒店': \n",
    "        num = func_hotel(city, branch_no, baidu_ak, radius, workbook)\n",
    "    \n",
    "    elif keyword == '景点': \n",
    "        num = func_spot(city, branch_no, baidu_ak, radius, workbook)\n",
    "        \n",
    "    elif keyword == '企业': \n",
    "        num = func_company(city, branch_no, baidu_ak, radius, workbook)\n",
    "        \n",
    "    return num"
   ]
  },
  {
   "cell_type": "code",
   "execution_count": 20,
   "metadata": {},
   "outputs": [
    {
     "data": {
      "text/plain": [
       "315"
      ]
     },
     "execution_count": 20,
     "metadata": {},
     "output_type": "execute_result"
    }
   ],
   "source": [
    "get_info('深圳', 755561, '企业', 500, 'BrcqGhZ7Etv4uV4suTVbYwLKDCufbEI3')"
   ]
  },
  {
   "cell_type": "code",
   "execution_count": null,
   "metadata": {},
   "outputs": [],
   "source": []
  }
 ],
 "metadata": {
  "kernelspec": {
   "display_name": "Python 3",
   "language": "python",
   "name": "python3"
  },
  "language_info": {
   "codemirror_mode": {
    "name": "ipython",
    "version": 3
   },
   "file_extension": ".py",
   "mimetype": "text/x-python",
   "name": "python",
   "nbconvert_exporter": "python",
   "pygments_lexer": "ipython3",
   "version": "3.7.1"
  }
 },
 "nbformat": 4,
 "nbformat_minor": 2
}
